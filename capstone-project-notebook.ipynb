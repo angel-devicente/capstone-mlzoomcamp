{
 "cells": [
  {
   "cell_type": "markdown",
   "id": "5f5862f8-4c23-48d9-89f3-287e74201e2b",
   "metadata": {},
   "source": [
    "## 0. Required modules"
   ]
  },
  {
   "cell_type": "code",
   "execution_count": 1,
   "id": "301b1a14-77cd-4f8a-82ba-8ca7b501859f",
   "metadata": {},
   "outputs": [
    {
     "name": "stderr",
     "output_type": "stream",
     "text": [
      "2022-12-20 16:59:08.039378: I tensorflow/core/platform/cpu_feature_guard.cc:193] This TensorFlow binary is optimized with oneAPI Deep Neural Network Library (oneDNN) to use the following CPU instructions in performance-critical operations:  AVX2 AVX512F AVX512_VNNI FMA\n",
      "To enable them in other operations, rebuild TensorFlow with the appropriate compiler flags.\n",
      "2022-12-20 16:59:08.150711: I tensorflow/core/util/port.cc:104] oneDNN custom operations are on. You may see slightly different numerical results due to floating-point round-off errors from different computation orders. To turn them off, set the environment variable `TF_ENABLE_ONEDNN_OPTS=0`.\n",
      "2022-12-20 16:59:08.636889: W tensorflow/compiler/xla/stream_executor/platform/default/dso_loader.cc:64] Could not load dynamic library 'libnvinfer.so.7'; dlerror: libnvinfer.so.7: cannot open shared object file: No such file or directory; LD_LIBRARY_PATH: :/home/angelv/local/prog_langs/miniconda3/envs/capstone_pr/lib/\n",
      "2022-12-20 16:59:08.636985: W tensorflow/compiler/xla/stream_executor/platform/default/dso_loader.cc:64] Could not load dynamic library 'libnvinfer_plugin.so.7'; dlerror: libnvinfer_plugin.so.7: cannot open shared object file: No such file or directory; LD_LIBRARY_PATH: :/home/angelv/local/prog_langs/miniconda3/envs/capstone_pr/lib/\n",
      "2022-12-20 16:59:08.636991: W tensorflow/compiler/tf2tensorrt/utils/py_utils.cc:38] TF-TRT Warning: Cannot dlopen some TensorRT libraries. If you would like to use Nvidia GPU with TensorRT, please make sure the missing libraries mentioned above are installed properly.\n"
     ]
    }
   ],
   "source": [
    "import numpy as np\n",
    "import pandas as pd\n",
    "\n",
    "from PIL import Image\n",
    "import matplotlib.pyplot as plt\n",
    "import seaborn as sns\n",
    "\n",
    "from sklearn.model_selection import train_test_split\n",
    "\n",
    "import os\n",
    "from tqdm import tqdm\n",
    "import shutil\n",
    "\n",
    "import tensorflow as tf\n",
    "from tensorflow.keras import layers\n",
    "from tensorflow.keras.optimizers import SGD\n",
    "from tensorflow.keras.preprocessing.image import load_img\n",
    "\n",
    "import tensorflow.lite as tflite_tf\n",
    "import tflite_runtime.interpreter as tflite"
   ]
  },
  {
   "cell_type": "markdown",
   "id": "3e773186-4048-49bc-a87d-3303a4e8bb29",
   "metadata": {},
   "source": [
    "## 1. Data preparation"
   ]
  },
  {
   "cell_type": "markdown",
   "id": "16e2c4c2-ecda-4c41-805e-af0adbea046b",
   "metadata": {},
   "source": [
    "The original data found in the Kaggle dataset had redundant files, and data in a format (`.pgm`) that Keras would not be able to use, so I pre-processed them (and stored them in the directory `MIAS-data`) in the following way:           \n",
    "+ I deleted the files `all-mias.tar` and `all_mias_scans.h5`\n",
    "+ I converted all `.pgm` files in directory `all-mias` to `.jpg` format. The code used to do this conversion was simply:                                   "
   ]
  },
  {
   "cell_type": "raw",
   "id": "228e3597-3009-475f-9234-40fd99eaf80a",
   "metadata": {},
   "source": [
    "import os \n",
    "from PIL import Image                                                                                                                                                   \n",
    "directory = 'MIAS-data/all-mias'                    \n",
    "for file in os.listdir(directory):                  \n",
    "    f = os.path.join(directory, file)               \n",
    "    if file.endswith('.pgm') and os.path.isfile(f):  \n",
    "        nfile = file.replace('.pgm','.jpg')     \n",
    "        nf = os.path.join(directory, nfile)     \n",
    "        img = Image.open(f)                    \n",
    "        img.save(nf)                                                                                               "
   ]
  },
  {
   "cell_type": "markdown",
   "id": "c8efb6a2-3dff-4069-9e42-dc5f3b963e5d",
   "metadata": {},
   "source": [
    "## 2. Exploratory Data Analysis"
   ]
  },
  {
   "cell_type": "markdown",
   "id": "51db580f-7942-4a22-a217-6cb24ba8a673",
   "metadata": {},
   "source": [
    "The file `MIAS-data/all-mias/README` describes the dataset. and the data available for each of the mammogram images. The file `MIAS-data/Info.txt` lists all the available images, together with the relevant information for each of them. Thus, the first lines of `MIAS-data/Info.txt` are: "
   ]
  },
  {
   "cell_type": "raw",
   "id": "d65df229-3a23-40ff-916c-e6de515bf89a",
   "metadata": {},
   "source": [
    "REFNUM BG CLASS SEVERITY X Y RADIUS \n",
    "mdb001 G CIRC B 535 425 197\n",
    "mdb002 G CIRC B 522 280 69\n",
    "mdb003 D NORM \n",
    "mdb004 D NORM \n",
    "mdb005 F CIRC B 477 133 30\n",
    "mdb005 F CIRC B 500 168 26\n",
    "mdb006 F NORM \n",
    "mdb007 G NORM \n",
    "mdb008 G NORM \n",
    "mdb009 F NORM "
   ]
  },
  {
   "cell_type": "markdown",
   "id": "fa3823fd-2453-440c-a6af-95f8b0132d18",
   "metadata": {},
   "source": [
    "The meaning of each field is described in `MIAS-data/all-mias/README`. I reproduce here the relevant part of the file for ease of reference:"
   ]
  },
  {
   "cell_type": "raw",
   "id": "8581ec4c-e156-4247-b363-c547f0bbdf38",
   "metadata": {},
   "source": [
    "INFORMATION:\n",
    "\n",
    "This file lists the films in the MIAS database and provides\n",
    "appropriate details as follows:\n",
    "\n",
    "1st column: MIAS database reference number.\n",
    "\n",
    "2nd column: Character of background tissue:\n",
    "                F - Fatty\n",
    "                G - Fatty-glandular\n",
    "                D - Dense-glandular\n",
    "\n",
    "3rd column: Class of abnormality present:\n",
    "                CALC - Calcification\n",
    "                CIRC - Well-defined/circumscribed masses\n",
    "                SPIC - Spiculated masses\n",
    "                MISC - Other, ill-defined masses\n",
    "                ARCH - Architectural distortion\n",
    "                ASYM - Asymmetry\n",
    "                NORM - Normal\n",
    "\n",
    "4th column: Severity of abnormality;\n",
    "                B - Benign\n",
    "                M - Malignant\n",
    "\n",
    "5th,6th columns: x,y image-coordinates of centre of abnormality.\n",
    "\n",
    "7th column: Approximate radius (in pixels) of a circle enclosing\n",
    "            the abnormality.\n",
    "\n",
    "NOTES\n",
    "=====\n",
    "1) The list is arranged in pairs of films, where each pair\n",
    "   represents the left (even filename numbers) and right mammograms\n",
    "   (odd filename numbers) of a single patient.\n",
    "\n",
    "2) The size of ALL the images is 1024 pixels x 1024 pixels. The images\n",
    "   have been centered in the matrix.\n",
    "\n",
    "3) When calcifications are present, centre locations and radii\n",
    "   apply to clusters rather than individual calcifications.\n",
    "   Coordinate system origin is the bottom-left corner.\n",
    "\n",
    "4) In some cases calcifications are widely distributed throughout\n",
    "   the image rather than concentrated at a single site. In these\n",
    "   cases centre locations and radii are inappropriate and have\n",
    "   been omitted."
   ]
  },
  {
   "cell_type": "markdown",
   "id": "45eb0fa0-64d0-4dae-a810-55ac25928c15",
   "metadata": {},
   "source": [
    "As an example, we can see the first image in the dataset (resized to 300x300 pixels)"
   ]
  },
  {
   "cell_type": "code",
   "execution_count": 2,
   "id": "45aefcc4-e90a-4c1a-90bc-41199fb42aec",
   "metadata": {},
   "outputs": [
    {
     "data": {
      "image/png": "[encoded data removed]",
      "text/plain": [
       "<PIL.Image.Image image mode=L size=300x300>"
      ]
     },
     "execution_count": 2,
     "metadata": {},
     "output_type": "execute_result"
    }
   ],
   "source": [
    "im = Image.open('MIAS-data/all-mias/mdb001.jpg')\n",
    "im.resize((300,300))"
   ]
  },
  {
   "cell_type": "markdown",
   "id": "f7341567-2efe-4e11-a126-2abfa5d85ef9",
   "metadata": {},
   "source": [
    "### 2.1. Collecting image information in a DataFrame"
   ]
  },
  {
   "cell_type": "code",
   "execution_count": 3,
   "id": "fbe99e6f-1917-4536-892a-b50106ceb981",
   "metadata": {},
   "outputs": [],
   "source": [
    "df = pd.read_csv('MIAS-data/Info.txt',sep=' ')"
   ]
  },
  {
   "cell_type": "markdown",
   "id": "37e80ee6-4ecb-42bc-9a59-20ac7c650f44",
   "metadata": {},
   "source": [
    "We can `describe` the generated DataFrame, and we see that a column 'Unnamed: 7' was added with no real data."
   ]
  },
  {
   "cell_type": "code",
   "execution_count": 4,
   "id": "b4ca46ea-ff1d-4d26-9963-0113cc7dedb6",
   "metadata": {},
   "outputs": [
    {
     "data": {
      "text/html": [
       "<div>\n",
       "<style scoped>\n",
       "    .dataframe tbody tr th:only-of-type {\n",
       "        vertical-align: middle;\n",
       "    }\n",
       "\n",
       "    .dataframe tbody tr th {\n",
       "        vertical-align: top;\n",
       "    }\n",
       "\n",
       "    .dataframe thead th {\n",
       "        text-align: right;\n",
       "    }\n",
       "</style>\n",
       "<table border=\"1\" class=\"dataframe\">\n",
       "  <thead>\n",
       "    <tr style=\"text-align: right;\">\n",
       "      <th></th>\n",
       "      <th>REFNUM</th>\n",
       "      <th>BG</th>\n",
       "      <th>CLASS</th>\n",
       "      <th>SEVERITY</th>\n",
       "      <th>X</th>\n",
       "      <th>Y</th>\n",
       "      <th>RADIUS</th>\n",
       "      <th>Unnamed: 7</th>\n",
       "    </tr>\n",
       "  </thead>\n",
       "  <tbody>\n",
       "    <tr>\n",
       "      <th>count</th>\n",
       "      <td>330</td>\n",
       "      <td>330</td>\n",
       "      <td>330</td>\n",
       "      <td>123</td>\n",
       "      <td>119.000000</td>\n",
       "      <td>119.000000</td>\n",
       "      <td>119.000000</td>\n",
       "      <td>0.0</td>\n",
       "    </tr>\n",
       "    <tr>\n",
       "      <th>unique</th>\n",
       "      <td>322</td>\n",
       "      <td>3</td>\n",
       "      <td>7</td>\n",
       "      <td>2</td>\n",
       "      <td>NaN</td>\n",
       "      <td>NaN</td>\n",
       "      <td>NaN</td>\n",
       "      <td>NaN</td>\n",
       "    </tr>\n",
       "    <tr>\n",
       "      <th>top</th>\n",
       "      <td>mdb226</td>\n",
       "      <td>D</td>\n",
       "      <td>NORM</td>\n",
       "      <td>B</td>\n",
       "      <td>NaN</td>\n",
       "      <td>NaN</td>\n",
       "      <td>NaN</td>\n",
       "      <td>NaN</td>\n",
       "    </tr>\n",
       "    <tr>\n",
       "      <th>freq</th>\n",
       "      <td>3</td>\n",
       "      <td>117</td>\n",
       "      <td>207</td>\n",
       "      <td>69</td>\n",
       "      <td>NaN</td>\n",
       "      <td>NaN</td>\n",
       "      <td>NaN</td>\n",
       "      <td>NaN</td>\n",
       "    </tr>\n",
       "    <tr>\n",
       "      <th>mean</th>\n",
       "      <td>NaN</td>\n",
       "      <td>NaN</td>\n",
       "      <td>NaN</td>\n",
       "      <td>NaN</td>\n",
       "      <td>488.605042</td>\n",
       "      <td>520.983193</td>\n",
       "      <td>48.848739</td>\n",
       "      <td>NaN</td>\n",
       "    </tr>\n",
       "    <tr>\n",
       "      <th>std</th>\n",
       "      <td>NaN</td>\n",
       "      <td>NaN</td>\n",
       "      <td>NaN</td>\n",
       "      <td>NaN</td>\n",
       "      <td>134.144131</td>\n",
       "      <td>178.828342</td>\n",
       "      <td>33.558863</td>\n",
       "      <td>NaN</td>\n",
       "    </tr>\n",
       "    <tr>\n",
       "      <th>min</th>\n",
       "      <td>NaN</td>\n",
       "      <td>NaN</td>\n",
       "      <td>NaN</td>\n",
       "      <td>NaN</td>\n",
       "      <td>127.000000</td>\n",
       "      <td>125.000000</td>\n",
       "      <td>3.000000</td>\n",
       "      <td>NaN</td>\n",
       "    </tr>\n",
       "    <tr>\n",
       "      <th>25%</th>\n",
       "      <td>NaN</td>\n",
       "      <td>NaN</td>\n",
       "      <td>NaN</td>\n",
       "      <td>NaN</td>\n",
       "      <td>398.500000</td>\n",
       "      <td>427.000000</td>\n",
       "      <td>27.000000</td>\n",
       "      <td>NaN</td>\n",
       "    </tr>\n",
       "    <tr>\n",
       "      <th>50%</th>\n",
       "      <td>NaN</td>\n",
       "      <td>NaN</td>\n",
       "      <td>NaN</td>\n",
       "      <td>NaN</td>\n",
       "      <td>505.000000</td>\n",
       "      <td>524.000000</td>\n",
       "      <td>41.000000</td>\n",
       "      <td>NaN</td>\n",
       "    </tr>\n",
       "    <tr>\n",
       "      <th>75%</th>\n",
       "      <td>NaN</td>\n",
       "      <td>NaN</td>\n",
       "      <td>NaN</td>\n",
       "      <td>NaN</td>\n",
       "      <td>574.500000</td>\n",
       "      <td>621.000000</td>\n",
       "      <td>61.500000</td>\n",
       "      <td>NaN</td>\n",
       "    </tr>\n",
       "    <tr>\n",
       "      <th>max</th>\n",
       "      <td>NaN</td>\n",
       "      <td>NaN</td>\n",
       "      <td>NaN</td>\n",
       "      <td>NaN</td>\n",
       "      <td>793.000000</td>\n",
       "      <td>994.000000</td>\n",
       "      <td>197.000000</td>\n",
       "      <td>NaN</td>\n",
       "    </tr>\n",
       "  </tbody>\n",
       "</table>\n",
       "</div>"
      ],
      "text/plain": [
       "        REFNUM   BG CLASS SEVERITY           X           Y      RADIUS  \\\n",
       "count      330  330   330      123  119.000000  119.000000  119.000000   \n",
       "unique     322    3     7        2         NaN         NaN         NaN   \n",
       "top     mdb226    D  NORM        B         NaN         NaN         NaN   \n",
       "freq         3  117   207       69         NaN         NaN         NaN   \n",
       "mean       NaN  NaN   NaN      NaN  488.605042  520.983193   48.848739   \n",
       "std        NaN  NaN   NaN      NaN  134.144131  178.828342   33.558863   \n",
       "min        NaN  NaN   NaN      NaN  127.000000  125.000000    3.000000   \n",
       "25%        NaN  NaN   NaN      NaN  398.500000  427.000000   27.000000   \n",
       "50%        NaN  NaN   NaN      NaN  505.000000  524.000000   41.000000   \n",
       "75%        NaN  NaN   NaN      NaN  574.500000  621.000000   61.500000   \n",
       "max        NaN  NaN   NaN      NaN  793.000000  994.000000  197.000000   \n",
       "\n",
       "        Unnamed: 7  \n",
       "count          0.0  \n",
       "unique         NaN  \n",
       "top            NaN  \n",
       "freq           NaN  \n",
       "mean           NaN  \n",
       "std            NaN  \n",
       "min            NaN  \n",
       "25%            NaN  \n",
       "50%            NaN  \n",
       "75%            NaN  \n",
       "max            NaN  "
      ]
     },
     "execution_count": 4,
     "metadata": {},
     "output_type": "execute_result"
    }
   ],
   "source": [
    "df.describe(include='all')"
   ]
  },
  {
   "cell_type": "markdown",
   "id": "2b57bab2-1ef6-4c4f-a85e-d1877577e38b",
   "metadata": {},
   "source": [
    "We can delete the bogus 'Unnamed: 7' column and inspect the DataFrame data types (everything looks fine: the first four columns are of string type, while the last three are floats)"
   ]
  },
  {
   "cell_type": "code",
   "execution_count": 5,
   "id": "73e58d19-ab90-41bf-abc1-7ebd7da5f726",
   "metadata": {},
   "outputs": [],
   "source": [
    "del df['Unnamed: 7']"
   ]
  },
  {
   "cell_type": "code",
   "execution_count": 6,
   "id": "7bb8e1fd-3909-4bfb-9ac9-2e2090347dfa",
   "metadata": {},
   "outputs": [
    {
     "data": {
      "text/plain": [
       "REFNUM       object\n",
       "BG           object\n",
       "CLASS        object\n",
       "SEVERITY     object\n",
       "X           float64\n",
       "Y           float64\n",
       "RADIUS      float64\n",
       "dtype: object"
      ]
     },
     "execution_count": 6,
     "metadata": {},
     "output_type": "execute_result"
    }
   ],
   "source": [
    "df.dtypes"
   ]
  },
  {
   "cell_type": "markdown",
   "id": "eec22fd4-c1a7-4824-ad44-a71f608cd420",
   "metadata": {},
   "source": [
    "### 2.2. Studying data distribution"
   ]
  },
  {
   "cell_type": "markdown",
   "id": "7009d754-9d11-48b2-a4ce-ba5499ec6651",
   "metadata": {},
   "source": [
    "We can first see how many of the mammogram images have an abnormality and what is their distribution. Given the small number of samples, it will be important to try and maintain these proportions later when we divide our dataset in training and validation sets."
   ]
  },
  {
   "cell_type": "code",
   "execution_count": 7,
   "id": "747e6549-c31c-4d93-9967-58999a74eaed",
   "metadata": {},
   "outputs": [
    {
     "name": "stdout",
     "output_type": "stream",
     "text": [
      "Number of abnormalities: 123\n"
     ]
    }
   ],
   "source": [
    "print(f'Number of abnormalities: {df.CLASS[df.CLASS != \"NORM\"].count()}')"
   ]
  },
  {
   "cell_type": "markdown",
   "id": "28dd2c3b-5161-4a21-93a9-56b78ca24740",
   "metadata": {},
   "source": [
    "Out of the abnormal mammograms, what is the distribution of benign and malignant samples? As we can see below, the number is very similar for both categories."
   ]
  },
  {
   "cell_type": "markdown",
   "id": "5fbd008b-204c-4a75-81ab-ced405eb571f",
   "metadata": {},
   "source": [
    "Another feature whose distribution we should also probably try to maintain for the training and validation tests is the radius size of the abnormality. We can also see its distribution below."
   ]
  },
  {
   "cell_type": "code",
   "execution_count": 8,
   "id": "29f1e201-5701-4f8a-9ba8-20546e22f97b",
   "metadata": {},
   "outputs": [
    {
     "data": {
      "text/plain": [
       "<AxesSubplot: xlabel='RADIUS', ylabel='Count'>"
      ]
     },
     "execution_count": 8,
     "metadata": {},
     "output_type": "execute_result"
    },
    {
     "data": {
      "image/png": "[encoded data removed]",
      "text/plain": [
       "<Figure size 2100x700 with 3 Axes>"
      ]
     },
     "metadata": {},
     "output_type": "display_data"
    }
   ],
   "source": [
    "f, axs = plt.subplots(1, 3, figsize=(21, 7))\n",
    "sns.histplot(df.CLASS, ax=axs[0])\n",
    "sns.histplot(df.SEVERITY, ax=axs[1])\n",
    "sns.histplot(df.RADIUS, ax=axs[2])"
   ]
  },
  {
   "cell_type": "markdown",
   "id": "d0b1c290-19f4-4cb5-835d-f3f8959840fa",
   "metadata": {},
   "source": [
    "## 3. Building the detection CNN"
   ]
  },
  {
   "cell_type": "markdown",
   "id": "65e55603-f6a2-409b-bcff-9633635d85b9",
   "metadata": {},
   "source": [
    "### 3.1. Splitting the data: training and validation datasets"
   ]
  },
  {
   "cell_type": "code",
   "execution_count": 9,
   "id": "1b5faa37-3ba4-4da3-b679-8d9a018da988",
   "metadata": {},
   "outputs": [],
   "source": [
    "df_train, df_val = train_test_split(df, test_size=0.2, random_state=42)\n",
    "df_train.reset_index(inplace=True)\n",
    "df_val.reset_index(inplace=True)"
   ]
  },
  {
   "cell_type": "markdown",
   "id": "e3b12839-833b-4c79-b7a7-6d6bbcf4c3be",
   "metadata": {},
   "source": [
    "If we plot `CLASS`, `SEVERITY` and `RADIUS` we see that the distribution is very similar to that of the full dataset."
   ]
  },
  {
   "cell_type": "code",
   "execution_count": 10,
   "id": "76d33cf3-1a10-40b5-84fd-2e9eebec6087",
   "metadata": {},
   "outputs": [
    {
     "data": {
      "text/plain": [
       "<AxesSubplot: xlabel='RADIUS', ylabel='Count'>"
      ]
     },
     "execution_count": 10,
     "metadata": {},
     "output_type": "execute_result"
    },
    {
     "data": {
      "image/png": "[encoded data removed]",
      "text/plain": [
       "<Figure size 2100x700 with 3 Axes>"
      ]
     },
     "metadata": {},
     "output_type": "display_data"
    }
   ],
   "source": [
    "f, axs = plt.subplots(1, 3, figsize=(21, 7))\n",
    "sns.histplot(df_train.CLASS, ax=axs[0])\n",
    "sns.histplot(df_train.SEVERITY, ax=axs[1])\n",
    "sns.histplot(df_train.RADIUS, ax=axs[2])\n",
    "#f.tight_layout()"
   ]
  },
  {
   "cell_type": "markdown",
   "id": "b727cf7a-f531-4482-b7b0-ea6eec9add64",
   "metadata": {},
   "source": [
    "### 3.2 Preparing training and validation datasets for Keras"
   ]
  },
  {
   "cell_type": "markdown",
   "id": "4fd88977-8a4a-4a18-ba65-1f215ef64fda",
   "metadata": {},
   "source": [
    "Since the easiest way to load images for Keras is to have them categorized by directories, I create training and validation directories, with the mammographies simply categorized as `normal` or `abnormal`. For the moment, I only categorize in `normal` or `abnormal`, but for the last course project I would like to consider all abnormality categories, so the following deep network will assume categorical classification, though for this particular case binary classification would have been sufficient."
   ]
  },
  {
   "cell_type": "code",
   "execution_count": 11,
   "id": "39faff49-a91f-4988-88fb-b669303b5c7d",
   "metadata": {},
   "outputs": [],
   "source": [
    "# Let's create the directories if they don't exist \n",
    "for dirn in ['train_data','val_data']:\n",
    "    if not os.path.exists('MIAS-data/' + dirn):\n",
    "        os.mkdir('MIAS-data/' + dirn)\n",
    "    for cat in ['/normal','/abnormal']:\n",
    "        if not os.path.exists('MIAS-data/' + dirn + cat):\n",
    "            os.mkdir('MIAS-data/' + dirn + cat)"
   ]
  },
  {
   "cell_type": "code",
   "execution_count": 12,
   "id": "7cee82bb-28bb-47e2-a148-e01f76c796bd",
   "metadata": {},
   "outputs": [
    {
     "name": "stderr",
     "output_type": "stream",
     "text": [
      "100%|███████████████████████████████████████████████████████████| 264/264 [00:00<00:00, 3198.36it/s]\n",
      "100%|█████████████████████████████████████████████████████████████| 66/66 [00:00<00:00, 6528.72it/s]\n"
     ]
    }
   ],
   "source": [
    "# Let's move all the train data to normal|abnormal directories\n",
    "for i in tqdm(range(df_train.shape[0])):\n",
    "    sourceimg = 'MIAS-data/all-mias/' + df_train.REFNUM[i] + '.jpg'    \n",
    "    if df_train.CLASS[i] != 'NORM':\n",
    "        destdir = 'MIAS-data/train_data/abnormal/'\n",
    "    else:\n",
    "        destdir = 'MIAS-data/train_data/normal/'\n",
    "    shutil.copy2(sourceimg, destdir) \n",
    "    \n",
    "# Let's move all the validation data to normal|abnormal directories\n",
    "for i in tqdm(range(df_val.shape[0])):\n",
    "    sourceimg = 'MIAS-data/all-mias/' + df_val.REFNUM[i] + '.jpg'\n",
    "    if df_val.CLASS[i] != 'NORM':\n",
    "        destdir = 'MIAS-data/val_data/abnormal/'\n",
    "    else:\n",
    "        destdir = 'MIAS-data/val_data/normal/'\n",
    "    shutil.copy2(sourceimg, destdir)     "
   ]
  },
  {
   "cell_type": "markdown",
   "id": "54a00364-8864-4da5-880b-9bcb8293af29",
   "metadata": {},
   "source": [
    "### 3.3 Building and training a basic CNN"
   ]
  },
  {
   "cell_type": "code",
   "execution_count": 13,
   "id": "e7806b55-381b-4df5-9ec6-a59fe5e57094",
   "metadata": {},
   "outputs": [],
   "source": [
    "batch_size = 20\n",
    "img_height = 1024\n",
    "img_width = 1024"
   ]
  },
  {
   "cell_type": "markdown",
   "id": "b4f71ee4-c86f-429c-afc3-dfac7486b1d4",
   "metadata": {},
   "source": [
    "I define the `train_ds` and the `val_ds`. I use `image_dataset_from_directory` instead of the routines seen during the course, since this one doesn't have such a large I/O bottleneck, and the GPU can be utilized much more efficiently. "
   ]
  },
  {
   "cell_type": "code",
   "execution_count": 14,
   "id": "6dfd6000-3441-46a7-b6c8-a0a7c1d2d545",
   "metadata": {},
   "outputs": [
    {
     "name": "stdout",
     "output_type": "stream",
     "text": [
      "Found 259 files belonging to 2 classes.\n",
      "Found 66 files belonging to 2 classes.\n"
     ]
    },
    {
     "name": "stderr",
     "output_type": "stream",
     "text": [
      "2022-12-20 16:59:51.720822: I tensorflow/core/common_runtime/gpu/gpu_device.cc:2006] Ignoring visible gpu device (device: 1, name: NVIDIA GeForce GT 710, pci bus id: 0000:af:00.0, compute capability: 3.5) with core count: 1. The minimum required count is 8. You can adjust this requirement with the env var TF_MIN_GPU_MULTIPROCESSOR_COUNT.\n",
      "2022-12-20 16:59:51.722092: I tensorflow/core/platform/cpu_feature_guard.cc:193] This TensorFlow binary is optimized with oneAPI Deep Neural Network Library (oneDNN) to use the following CPU instructions in performance-critical operations:  AVX2 AVX512F AVX512_VNNI FMA\n",
      "To enable them in other operations, rebuild TensorFlow with the appropriate compiler flags.\n",
      "2022-12-20 16:59:52.135229: I tensorflow/core/common_runtime/gpu/gpu_device.cc:1613] Created device /job:localhost/replica:0/task:0/device:GPU:0 with 10772 MB memory:  -> device: 0, name: Tesla K40c, pci bus id: 0000:3b:00.0, compute capability: 3.5\n"
     ]
    }
   ],
   "source": [
    "train_ds = tf.keras.utils.image_dataset_from_directory(\n",
    "  \"MIAS-data/train_data\",\n",
    "  label_mode='categorical',\n",
    "  image_size=(img_height, img_width),\n",
    "  batch_size=batch_size)\n",
    "\n",
    "val_ds = tf.keras.utils.image_dataset_from_directory(\n",
    "  \"MIAS-data/val_data\",\n",
    "  label_mode='categorical',\n",
    "  image_size=(img_height, img_width),\n",
    "  batch_size=batch_size)\n",
    "\n",
    "AUTOTUNE = tf.data.AUTOTUNE\n",
    "\n",
    "train_ds = train_ds.cache().prefetch(buffer_size=AUTOTUNE)\n",
    "val_ds = val_ds.cache().prefetch(buffer_size=AUTOTUNE)"
   ]
  },
  {
   "cell_type": "markdown",
   "id": "8a8b4e30-9aac-4687-843f-ed2b634d4e17",
   "metadata": {},
   "source": [
    "We are going to do *Data Augmentation*. For this, be `repeat` the train dataset three times, and then apply a number of transformations to these data, like *rotation*, *translation*, *zoom* and *horizontal flip* (following https://www.tensorflow.org/tutorials/images/data_augmentation)"
   ]
  },
  {
   "cell_type": "code",
   "execution_count": 15,
   "id": "6e1af6c2-1d0a-4a7f-bd3d-f38f34213e3b",
   "metadata": {},
   "outputs": [],
   "source": [
    "train_ds = train_ds.repeat(count=3)"
   ]
  },
  {
   "cell_type": "code",
   "execution_count": 16,
   "id": "beb9137a-c81d-4f3d-9217-c3b8b531ce06",
   "metadata": {
    "tags": []
   },
   "outputs": [],
   "source": [
    "%%capture\n",
    "data_augmentation = tf.keras.Sequential([\n",
    "    layers.RandomRotation(0.111),    # given as a fraction of 2*Pi  (0.111 * 2 * Pi = 40 degrees)\n",
    "    layers.RandomTranslation(height_factor=0.2,width_factor=0.2),\n",
    "    layers.RandomZoom(height_factor=0.2,width_factor=0.2),\n",
    "    layers.RandomFlip(\"horizontal\")\n",
    "])\n",
    "\n",
    "%%capture\n",
    "train_ds = train_ds.map(\n",
    "    lambda x, y: (data_augmentation(x, training=True), y),\n",
    "    num_parallel_calls=AUTOTUNE);"
   ]
  },
  {
   "cell_type": "markdown",
   "id": "9d026daa-fd9d-42a8-afb6-0fa533ede01d",
   "metadata": {},
   "source": [
    "We define a basic CNN, where we first normalize the data by dividing the input by 255, with `input_shape` of [1024,1024,1], since the given data is only one channel (grayscale), and then with a number of smaller convolution layers, and finally some dense layers, followed by a `softmax` final layer which will categorize the output in the given two categories. \n",
    "\n",
    "For this project, given that the emphasis was on reproducibility and deployment, I don't consider the effect that the number and characteristics of the different layers have on the quality of the prediction and I just design a more or less basic standard network, but for the final course project I would like to consider different designs and layer parameters in order to improve the accuracy of the predictions."
   ]
  },
  {
   "cell_type": "code",
   "execution_count": 17,
   "id": "004ac46f-41ab-4b5e-9d5d-2dc42750be8b",
   "metadata": {},
   "outputs": [],
   "source": [
    "model = tf.keras.Sequential([\n",
    "    layers.Rescaling(1./255),\n",
    "    layers.Conv2D(32, (4, 4), activation='relu', input_shape = [1024,1024,1]),\n",
    "    layers.MaxPooling2D(),\n",
    "    layers.Conv2D(64, (3, 3), activation='relu'),\n",
    "    layers.MaxPooling2D(),\n",
    "    layers.Conv2D(64, (3, 3), activation='relu'),\n",
    "    layers.MaxPooling2D(),    \n",
    "    layers.Conv2D(32, (2, 2), activation='relu'),    \n",
    "    layers.Flatten(),\n",
    "    layers.Dense(128, activation='relu'),\n",
    "    layers.Dropout(0.2),        \n",
    "    layers.Dense(64, activation='relu'),\n",
    "    layers.Dropout(0.2),    \n",
    "    layers.Dense(32, activation='relu'),\n",
    "    layers.Dropout(0.2),        \n",
    "    layers.Dense(2,activation='softmax')\n",
    "])"
   ]
  },
  {
   "cell_type": "markdown",
   "id": "41b457a0-dd51-4969-84e7-c532a4c54612",
   "metadata": {},
   "source": [
    "For this project, given that the emphasis was on reproducibility and deployment, I fix the `learning_rate` and `momentum` to some more or less random values, but for the final course project I would like to consider these as hyperparameters in order to improve the accuracy of the predictions."
   ]
  },
  {
   "cell_type": "code",
   "execution_count": 18,
   "id": "187071d0-2b1a-4378-b438-934876b0de83",
   "metadata": {},
   "outputs": [],
   "source": [
    "model.compile(\n",
    "  optimizer=SGD(learning_rate=0.01, momentum=0.3),\n",
    "  loss=tf.keras.losses.CategoricalCrossentropy(),\n",
    "  metrics=['accuracy'])"
   ]
  },
  {
   "cell_type": "markdown",
   "id": "23d7f37c-37a9-4871-8657-627cfb8f4ebd",
   "metadata": {},
   "source": [
    "I want to save the model that produces the best predictions in `chkpts` directory, so we can load and use this model at a later point. "
   ]
  },
  {
   "cell_type": "code",
   "execution_count": 19,
   "id": "1da8fc15-ea2e-464b-8c36-fe21ccd77cac",
   "metadata": {},
   "outputs": [],
   "source": [
    "checkpoint = tf.keras.callbacks.ModelCheckpoint(\n",
    "    'model_checkpoints/mias_{epoch:02d}_{val_accuracy:.3f}.h5',\n",
    "    save_best_only=True,\n",
    "    monitor='val_accuracy',\n",
    "    mode='max'\n",
    ")"
   ]
  },
  {
   "cell_type": "markdown",
   "id": "f27a6e05-8499-4a23-ad66-ab263a194de7",
   "metadata": {},
   "source": [
    "And finally we train the model. As it is, the model seems very stable but with a not so good predicition rate of about 68%. In my local machine, with a Tesla K40c NVidia GPU, each traingin epoch took about one minute."
   ]
  },
  {
   "cell_type": "code",
   "execution_count": 20,
   "id": "ef130714-4fef-49f7-a8c5-5216d01a422e",
   "metadata": {},
   "outputs": [
    {
     "name": "stderr",
     "output_type": "stream",
     "text": [
      "2022-12-20 17:00:21.211188: I tensorflow/compiler/xla/stream_executor/cuda/cuda_dnn.cc:428] Loaded cuDNN version 8100\n",
      "2022-12-20 17:00:27.367528: I tensorflow/compiler/xla/service/service.cc:173] XLA service 0x7fd5d4b2aee0 initialized for platform CUDA (this does not guarantee that XLA will be used). Devices:\n",
      "2022-12-20 17:00:27.367550: I tensorflow/compiler/xla/service/service.cc:181]   StreamExecutor device (0): Tesla K40c, Compute Capability 3.5\n",
      "2022-12-20 17:00:27.377220: W tensorflow/compiler/xla/service/gpu/nvptx_helper.cc:56] Can't find libdevice directory ${CUDA_DIR}/nvvm/libdevice. This may result in compilation or runtime failures, if the program we try to run uses routines from libdevice.\n",
      "Searched for CUDA in the following directories:\n",
      "  ./cuda_sdk_lib\n",
      "  /usr/local/cuda-11.2\n",
      "  /usr/local/cuda\n",
      "  .\n",
      "You can choose the search directory by setting xla_gpu_cuda_data_dir in HloModule's DebugOptions.  For most apps, setting the environment variable XLA_FLAGS=--xla_gpu_cuda_data_dir=/path/to/cuda will work.\n",
      "2022-12-20 17:00:27.435152: I tensorflow/compiler/jit/xla_compilation_cache.cc:477] Compiled cluster using XLA!  This line is logged at most once for the lifetime of the process.\n",
      "2022-12-20 17:00:29.605000: W tensorflow/tsl/framework/bfc_allocator.cc:290] Allocator (GPU_0_bfc) ran out of memory trying to allocate 6.77GiB with freed_by_count=0. The caller indicates that this is not a failure, but this may mean that there could be performance gains if more memory were available.\n",
      "2022-12-20 17:00:30.232404: W tensorflow/tsl/framework/bfc_allocator.cc:290] Allocator (GPU_0_bfc) ran out of memory trying to allocate 4.17GiB with freed_by_count=0. The caller indicates that this is not a failure, but this may mean that there could be performance gains if more memory were available.\n"
     ]
    },
    {
     "name": "stdout",
     "output_type": "stream",
     "text": [
      "12/39 [========>.....................] - ETA: 32s - loss: 0.6850 - accuracy: 0.6042"
     ]
    },
    {
     "name": "stderr",
     "output_type": "stream",
     "text": [
      "2022-12-20 17:00:44.846415: W tensorflow/tsl/framework/bfc_allocator.cc:290] Allocator (GPU_0_bfc) ran out of memory trying to allocate 3.56GiB with freed_by_count=0. The caller indicates that this is not a failure, but this may mean that there could be performance gains if more memory were available.\n",
      "2022-12-20 17:00:49.130348: W tensorflow/tsl/framework/bfc_allocator.cc:290] Allocator (GPU_0_bfc) ran out of memory trying to allocate 6.77GiB with freed_by_count=0. The caller indicates that this is not a failure, but this may mean that there could be performance gains if more memory were available.\n",
      "2022-12-20 17:00:49.726936: W tensorflow/tsl/framework/bfc_allocator.cc:290] Allocator (GPU_0_bfc) ran out of memory trying to allocate 3.96GiB with freed_by_count=0. The caller indicates that this is not a failure, but this may mean that there could be performance gains if more memory were available.\n"
     ]
    },
    {
     "name": "stdout",
     "output_type": "stream",
     "text": [
      "39/39 [==============================] - 69s 1s/step - loss: 0.6760 - accuracy: 0.6139 - val_loss: 0.6494 - val_accuracy: 0.6818\n"
     ]
    }
   ],
   "source": [
    "history = model.fit(\n",
    "    train_ds,\n",
    "    validation_data=val_ds,\n",
    "    epochs=1,\n",
    "    callbacks=[checkpoint]\n",
    ")"
   ]
  },
  {
   "cell_type": "markdown",
   "id": "353c908f-7176-4557-b492-6524e84324bf",
   "metadata": {},
   "source": [
    "We can see the summary of the network created, which has a large number of total parameters. For the final project of the course, I will also try to create a less complicated model while trying to at least keep the current accuracy"
   ]
  },
  {
   "cell_type": "code",
   "execution_count": 21,
   "id": "50726ed1-3703-4a2a-a009-4c7b6e52adf3",
   "metadata": {},
   "outputs": [
    {
     "name": "stdout",
     "output_type": "stream",
     "text": [
      "Model: \"sequential_1\"\n",
      "_________________________________________________________________\n",
      " Layer (type)                Output Shape              Param #   \n",
      "=================================================================\n",
      " rescaling (Rescaling)       (None, 1024, 1024, 3)     0         \n",
      "                                                                 \n",
      " conv2d (Conv2D)             (None, 1021, 1021, 32)    1568      \n",
      "                                                                 \n",
      " max_pooling2d (MaxPooling2D  (None, 510, 510, 32)     0         \n",
      " )                                                               \n",
      "                                                                 \n",
      " conv2d_1 (Conv2D)           (None, 508, 508, 64)      18496     \n",
      "                                                                 \n",
      " max_pooling2d_1 (MaxPooling  (None, 254, 254, 64)     0         \n",
      " 2D)                                                             \n",
      "                                                                 \n",
      " conv2d_2 (Conv2D)           (None, 252, 252, 64)      36928     \n",
      "                                                                 \n",
      " max_pooling2d_2 (MaxPooling  (None, 126, 126, 64)     0         \n",
      " 2D)                                                             \n",
      "                                                                 \n",
      " conv2d_3 (Conv2D)           (None, 125, 125, 32)      8224      \n",
      "                                                                 \n",
      " flatten (Flatten)           (None, 500000)            0         \n",
      "                                                                 \n",
      " dense (Dense)               (None, 128)               64000128  \n",
      "                                                                 \n",
      " dropout (Dropout)           (None, 128)               0         \n",
      "                                                                 \n",
      " dense_1 (Dense)             (None, 64)                8256      \n",
      "                                                                 \n",
      " dropout_1 (Dropout)         (None, 64)                0         \n",
      "                                                                 \n",
      " dense_2 (Dense)             (None, 32)                2080      \n",
      "                                                                 \n",
      " dropout_2 (Dropout)         (None, 32)                0         \n",
      "                                                                 \n",
      " dense_3 (Dense)             (None, 2)                 66        \n",
      "                                                                 \n",
      "=================================================================\n",
      "Total params: 64,075,746\n",
      "Trainable params: 64,075,746\n",
      "Non-trainable params: 0\n",
      "_________________________________________________________________\n"
     ]
    }
   ],
   "source": [
    "model.summary()"
   ]
  },
  {
   "cell_type": "markdown",
   "id": "d2a2bcdf-a1db-49a0-a40b-93d518fff627",
   "metadata": {},
   "source": [
    "### 3.4 Training and testing the model locally"
   ]
  },
  {
   "cell_type": "markdown",
   "id": "ee88eaca-2c02-4450-bcc2-9a86b6d73f98",
   "metadata": {},
   "source": [
    "*The scripts mentioned in this section are located and should be run inside the directory `training_testing_locally`*. \n",
    "\n",
    "*Remember to run `IPython` inside the `capstone_pr` conda environment, and inside the `capstone-mlzoomcamp` virtual environment (see file `README.md`).*"
   ]
  },
  {
   "cell_type": "markdown",
   "id": "1217136c-cad7-4423-8798-3ac1ac5386d2",
   "metadata": {},
   "source": [
    "#### 3.4.1 Model training "
   ]
  },
  {
   "cell_type": "markdown",
   "id": "31de679f-e17a-45d5-8fce-25667876ce96",
   "metadata": {},
   "source": [
    "Based on the previous analysis, the Python script `train.py` performs all the necessary steps to go from the original data to a saved model in the `.h5` Keras format. For example, if we run it inside IPython:"
   ]
  },
  {
   "cell_type": "raw",
   "id": "0ceb1e5c-3e36-40be-86eb-500b467a3c98",
   "metadata": {},
   "source": [
    "In [1]: %run train.py\n",
    "===========================================================\n",
    "Collecting image information in a DataFrame\n",
    "===========================================================                                                                                                           \n",
    "\n",
    "===========================================================\n",
    "Deleting the bogus 'Unnamed: 7' column\n",
    "===========================================================\n",
    "\n",
    "===========================================================\n",
    "Splitting the data: training and validation datasets\n",
    "===========================================================                                                                                                           \n",
    "\n",
    "===========================================================\n",
    "Preparing training and validation datasets for Keras\n",
    "===========================================================\n",
    "\n",
    "===========================================================\n",
    "Building and training a basic CNN\n",
    "===========================================================\n",
    "\n",
    "Found 259 files belonging to 2 classes.\n",
    "Found 66 files belonging to 2 classes.\n",
    "===========================================================\n",
    "Performing Data Augmentation\n",
    "===========================================================\n",
    "\n",
    "[...]\n",
    "\n",
    "===========================================================\n",
    "Defining basic CNN\n",
    "===========================================================\n",
    "\n",
    "===========================================================\n",
    "Compiling model\n",
    "===========================================================\n",
    "\n",
    "===========================================================\n",
    "Training the model\n",
    "===========================================================\n",
    "\n",
    "[...]\n",
    "\n",
    "===========================================================\n",
    "Saving model as a train_model.h5\n",
    "==========================================================="
   ]
  },
  {
   "cell_type": "markdown",
   "id": "47011ec3-f671-4bce-a47c-8566d1f18a19",
   "metadata": {},
   "source": [
    "#### 3.4.2 Model testing "
   ]
  },
  {
   "cell_type": "markdown",
   "id": "93e0f6a4-fb44-43e1-86b7-24e81c5d5727",
   "metadata": {},
   "source": [
    "The script `predict.py` can be used just to verify that the saved model can indeed be used to predict the presence of an abnormality in a mammography.\n",
    "\n",
    "As it is, it just goes through all the images in the validation set, and for each one it prints the probabilities for 'abnormal' and 'normal' categories, and at the end it prints the total accuracy."
   ]
  },
  {
   "cell_type": "raw",
   "id": "8e886a6c-0688-4899-a778-c2e1009e6896",
   "metadata": {},
   "source": [
    "In [85]: %run predict.py                                               \n",
    "Mammographies with abnormalities                            \n",
    "================================                            \n",
    "1/1 [==============================] - 0s 81ms/step                    \n",
    "mdb145.jpg -> {'abnormal': 0.4730868, 'normal': 0.5269132} \n",
    "                                                                       \n",
    "1/1 [==============================] - 0s 24ms/step                    \n",
    "mdb171.jpg -> {'abnormal': 0.47308245, 'normal': 0.5269175}\n",
    "                                                                       \n",
    "1/1 [==============================] - 0s 24ms/step                    \n",
    "mdb249.jpg -> {'abnormal': 0.47307074, 'normal': 0.5269293}\n",
    "                                     \n",
    "[...] \n",
    "\n",
    "1/1 [==============================] - 0s 24ms/step\n",
    "mdb303.jpg -> {'abnormal': 0.47307563, 'normal': 0.5269244}\n",
    "\n",
    "1/1 [==============================] - 0s 23ms/step\n",
    "mdb320.jpg -> {'abnormal': 0.47300902, 'normal': 0.526991}\n",
    "\n",
    "1/1 [==============================] - 0s 25ms/step\n",
    "mdb180.jpg -> {'abnormal': 0.47306326, 'normal': 0.5269367}\n",
    "\n",
    "=========================\n",
    "Accuracy: 0.6818181818181818\n",
    "========================="
   ]
  },
  {
   "cell_type": "markdown",
   "id": "1f849688-6fc9-4623-99ba-ea75e315eec3",
   "metadata": {},
   "source": [
    "## 4. Deploying the model"
   ]
  },
  {
   "cell_type": "markdown",
   "id": "5f757ef2-e1c4-4f8c-823b-1258efbb005a",
   "metadata": {},
   "source": [
    "For the deployment of this model, I used the `AWS Lambda` service, which is very\n",
    "interesting since one can imagine a nice workflow with this, in which a\n",
    "hospital needs to check mammogram images for abnormalities, and `AWS Lambda` would\n",
    "provide a nice platform to offer such a service, without the need for the\n",
    "hospital to install a local server to run the model, but at the same time being\n",
    "very cost effective, since charges would be incurred only when a prediction on a\n",
    "mammogram image needs to be generated. For this, we will follow the workflow\n",
    "learnt in Week 9 of the ML-Zoomcamp course."
   ]
  },
  {
   "cell_type": "markdown",
   "id": "212d5da7-00d8-4911-97dd-4c32bc3d5d2e",
   "metadata": {},
   "source": [
    "### 4.1. Preparing the deployment locally"
   ]
  },
  {
   "cell_type": "markdown",
   "id": "f20475ff-9050-42ed-a556-d1ce522f089f",
   "metadata": {},
   "source": [
    "We will first prepare everything locally, since problems can be debugged much\n",
    "easier this way."
   ]
  },
  {
   "cell_type": "markdown",
   "id": "81173ba6",
   "metadata": {},
   "source": [
    "*The scripts mentioned in this section are located and should be run inside the directory `deployment`*. \n",
    "\n",
    "*Remember to run `IPython` inside the `capstone_pr` conda environment, and inside the `capstone-mlzoomcamp` virtual environment (see file `README.md`).*"
   ]
  },
  {
   "cell_type": "markdown",
   "id": "f4c78079-cc43-430e-8d4a-dafcebae9589",
   "metadata": {
    "tags": []
   },
   "source": [
    "#### 4.1.1 Convert Keras model to TF-Lite"
   ]
  },
  {
   "cell_type": "markdown",
   "id": "468651ca-68ff-4458-87c0-73540cdbc9b3",
   "metadata": {},
   "source": [
    "Full tensorflow is too large to use it with the `AWS Lambda` service, so we need to convert it to the `TF-Lite` format, so let's first create the `train_model.tflite` model."
   ]
  },
  {
   "cell_type": "code",
   "execution_count": 22,
   "id": "3023c96c-4078-405a-ab07-d87704f1c552",
   "metadata": {},
   "outputs": [
    {
     "name": "stdout",
     "output_type": "stream",
     "text": [
      "INFO:tensorflow:Unsupported signature for serialization: ((TensorSpec(shape=(4, 4, 3, 32), dtype=tf.float32, name='gradient'), <tensorflow.python.framework.func_graph.UnknownArgument object at 0x7fdb366fb220>, 140579488699536), {}).\n",
      "INFO:tensorflow:Unsupported signature for serialization: ((TensorSpec(shape=(32,), dtype=tf.float32, name='gradient'), <tensorflow.python.framework.func_graph.UnknownArgument object at 0x7fdb367ece80>, 140579488717488), {}).\n",
      "INFO:tensorflow:Unsupported signature for serialization: ((TensorSpec(shape=(3, 3, 32, 64), dtype=tf.float32, name='gradient'), <tensorflow.python.framework.func_graph.UnknownArgument object at 0x7fdb366a4ca0>, 140579488523568), {}).\n",
      "INFO:tensorflow:Unsupported signature for serialization: ((TensorSpec(shape=(64,), dtype=tf.float32, name='gradient'), <tensorflow.python.framework.func_graph.UnknownArgument object at 0x7fdb3664e280>, 140579488523488), {}).\n",
      "INFO:tensorflow:Unsupported signature for serialization: ((TensorSpec(shape=(3, 3, 64, 64), dtype=tf.float32, name='gradient'), <tensorflow.python.framework.func_graph.UnknownArgument object at 0x7fdb366b1a90>, 140579488552880), {}).\n",
      "INFO:tensorflow:Unsupported signature for serialization: ((TensorSpec(shape=(64,), dtype=tf.float32, name='gradient'), <tensorflow.python.framework.func_graph.UnknownArgument object at 0x7fdb36640c70>, 140579488552800), {}).\n",
      "INFO:tensorflow:Unsupported signature for serialization: ((TensorSpec(shape=(2, 2, 64, 32), dtype=tf.float32, name='gradient'), <tensorflow.python.framework.func_graph.UnknownArgument object at 0x7fdb36658dc0>, 140579488551520), {}).\n",
      "INFO:tensorflow:Unsupported signature for serialization: ((TensorSpec(shape=(32,), dtype=tf.float32, name='gradient'), <tensorflow.python.framework.func_graph.UnknownArgument object at 0x7fdb36665fd0>, 140579488553680), {}).\n",
      "INFO:tensorflow:Unsupported signature for serialization: ((TensorSpec(shape=(500000, 128), dtype=tf.float32, name='gradient'), <tensorflow.python.framework.func_graph.UnknownArgument object at 0x7fdb36679160>, 140579488578096), {}).\n",
      "INFO:tensorflow:Unsupported signature for serialization: ((TensorSpec(shape=(128,), dtype=tf.float32, name='gradient'), <tensorflow.python.framework.func_graph.UnknownArgument object at 0x7fdb363c3340>, 140579488603632), {}).\n",
      "INFO:tensorflow:Unsupported signature for serialization: ((TensorSpec(shape=(128, 64), dtype=tf.float32, name='gradient'), <tensorflow.python.framework.func_graph.UnknownArgument object at 0x7fdb363ce490>, 140579488635680), {}).\n",
      "INFO:tensorflow:Unsupported signature for serialization: ((TensorSpec(shape=(64,), dtype=tf.float32, name='gradient'), <tensorflow.python.framework.func_graph.UnknownArgument object at 0x7fdb363d3670>, 140579488635920), {}).\n",
      "INFO:tensorflow:Unsupported signature for serialization: ((TensorSpec(shape=(64, 32), dtype=tf.float32, name='gradient'), <tensorflow.python.framework.func_graph.UnknownArgument object at 0x7fdb363dc7c0>, 140579488636720), {}).\n",
      "INFO:tensorflow:Unsupported signature for serialization: ((TensorSpec(shape=(32,), dtype=tf.float32, name='gradient'), <tensorflow.python.framework.func_graph.UnknownArgument object at 0x7fdb363e69a0>, 140579488636320), {}).\n",
      "INFO:tensorflow:Unsupported signature for serialization: ((TensorSpec(shape=(32, 2), dtype=tf.float32, name='gradient'), <tensorflow.python.framework.func_graph.UnknownArgument object at 0x7fdb363f0af0>, 140579488146336), {}).\n",
      "INFO:tensorflow:Unsupported signature for serialization: ((TensorSpec(shape=(2,), dtype=tf.float32, name='gradient'), <tensorflow.python.framework.func_graph.UnknownArgument object at 0x7fdb363facd0>, 140579488146576), {}).\n",
      "INFO:tensorflow:Unsupported signature for serialization: ((TensorSpec(shape=(4, 4, 3, 32), dtype=tf.float32, name='gradient'), <tensorflow.python.framework.func_graph.UnknownArgument object at 0x7fdb366fb220>, 140579488699536), {}).\n",
      "INFO:tensorflow:Unsupported signature for serialization: ((TensorSpec(shape=(32,), dtype=tf.float32, name='gradient'), <tensorflow.python.framework.func_graph.UnknownArgument object at 0x7fdb367ece80>, 140579488717488), {}).\n",
      "INFO:tensorflow:Unsupported signature for serialization: ((TensorSpec(shape=(3, 3, 32, 64), dtype=tf.float32, name='gradient'), <tensorflow.python.framework.func_graph.UnknownArgument object at 0x7fdb366a4ca0>, 140579488523568), {}).\n",
      "INFO:tensorflow:Unsupported signature for serialization: ((TensorSpec(shape=(64,), dtype=tf.float32, name='gradient'), <tensorflow.python.framework.func_graph.UnknownArgument object at 0x7fdb3664e280>, 140579488523488), {}).\n",
      "INFO:tensorflow:Unsupported signature for serialization: ((TensorSpec(shape=(3, 3, 64, 64), dtype=tf.float32, name='gradient'), <tensorflow.python.framework.func_graph.UnknownArgument object at 0x7fdb366b1a90>, 140579488552880), {}).\n",
      "INFO:tensorflow:Unsupported signature for serialization: ((TensorSpec(shape=(64,), dtype=tf.float32, name='gradient'), <tensorflow.python.framework.func_graph.UnknownArgument object at 0x7fdb36640c70>, 140579488552800), {}).\n",
      "INFO:tensorflow:Unsupported signature for serialization: ((TensorSpec(shape=(2, 2, 64, 32), dtype=tf.float32, name='gradient'), <tensorflow.python.framework.func_graph.UnknownArgument object at 0x7fdb36658dc0>, 140579488551520), {}).\n",
      "INFO:tensorflow:Unsupported signature for serialization: ((TensorSpec(shape=(32,), dtype=tf.float32, name='gradient'), <tensorflow.python.framework.func_graph.UnknownArgument object at 0x7fdb36665fd0>, 140579488553680), {}).\n",
      "INFO:tensorflow:Unsupported signature for serialization: ((TensorSpec(shape=(500000, 128), dtype=tf.float32, name='gradient'), <tensorflow.python.framework.func_graph.UnknownArgument object at 0x7fdb36679160>, 140579488578096), {}).\n",
      "INFO:tensorflow:Unsupported signature for serialization: ((TensorSpec(shape=(128,), dtype=tf.float32, name='gradient'), <tensorflow.python.framework.func_graph.UnknownArgument object at 0x7fdb363c3340>, 140579488603632), {}).\n",
      "INFO:tensorflow:Unsupported signature for serialization: ((TensorSpec(shape=(128, 64), dtype=tf.float32, name='gradient'), <tensorflow.python.framework.func_graph.UnknownArgument object at 0x7fdb363ce490>, 140579488635680), {}).\n",
      "INFO:tensorflow:Unsupported signature for serialization: ((TensorSpec(shape=(64,), dtype=tf.float32, name='gradient'), <tensorflow.python.framework.func_graph.UnknownArgument object at 0x7fdb363d3670>, 140579488635920), {}).\n",
      "INFO:tensorflow:Unsupported signature for serialization: ((TensorSpec(shape=(64, 32), dtype=tf.float32, name='gradient'), <tensorflow.python.framework.func_graph.UnknownArgument object at 0x7fdb363dc7c0>, 140579488636720), {}).\n",
      "INFO:tensorflow:Unsupported signature for serialization: ((TensorSpec(shape=(32,), dtype=tf.float32, name='gradient'), <tensorflow.python.framework.func_graph.UnknownArgument object at 0x7fdb363e69a0>, 140579488636320), {}).\n",
      "INFO:tensorflow:Unsupported signature for serialization: ((TensorSpec(shape=(32, 2), dtype=tf.float32, name='gradient'), <tensorflow.python.framework.func_graph.UnknownArgument object at 0x7fdb363f0af0>, 140579488146336), {}).\n",
      "INFO:tensorflow:Unsupported signature for serialization: ((TensorSpec(shape=(2,), dtype=tf.float32, name='gradient'), <tensorflow.python.framework.func_graph.UnknownArgument object at 0x7fdb363facd0>, 140579488146576), {}).\n"
     ]
    },
    {
     "name": "stderr",
     "output_type": "stream",
     "text": [
      "WARNING:absl:Found untraced functions such as _jit_compiled_convolution_op, _jit_compiled_convolution_op, _jit_compiled_convolution_op, _jit_compiled_convolution_op, _update_step_xla while saving (showing 5 of 5). These functions will not be directly callable after loading.\n"
     ]
    },
    {
     "name": "stdout",
     "output_type": "stream",
     "text": [
      "INFO:tensorflow:Assets written to: /tmp/tmpkjij4f_x/assets\n"
     ]
    },
    {
     "name": "stderr",
     "output_type": "stream",
     "text": [
      "INFO:tensorflow:Assets written to: /tmp/tmpkjij4f_x/assets\n",
      "2022-12-20 17:05:37.651039: W tensorflow/compiler/mlir/lite/python/tf_tfl_flatbuffer_helpers.cc:362] Ignored output_format.\n",
      "2022-12-20 17:05:37.651062: W tensorflow/compiler/mlir/lite/python/tf_tfl_flatbuffer_helpers.cc:365] Ignored drop_control_dependency.\n",
      "2022-12-20 17:05:37.651711: I tensorflow/cc/saved_model/reader.cc:45] Reading SavedModel from: /tmp/tmpkjij4f_x\n",
      "2022-12-20 17:05:37.654023: I tensorflow/cc/saved_model/reader.cc:89] Reading meta graph with tags { serve }\n",
      "2022-12-20 17:05:37.654044: I tensorflow/cc/saved_model/reader.cc:130] Reading SavedModel debug info (if present) from: /tmp/tmpkjij4f_x\n",
      "2022-12-20 17:05:37.663785: I tensorflow/compiler/mlir/mlir_graph_optimization_pass.cc:357] MLIR V1 optimization pass is not enabled\n",
      "2022-12-20 17:05:37.665675: I tensorflow/cc/saved_model/loader.cc:229] Restoring SavedModel bundle.\n",
      "2022-12-20 17:05:37.822496: I tensorflow/cc/saved_model/loader.cc:213] Running initialization op on SavedModel bundle at path: /tmp/tmpkjij4f_x\n",
      "2022-12-20 17:05:37.842748: I tensorflow/cc/saved_model/loader.cc:305] SavedModel load for tags { serve }; Status: success: OK. Took 191038 microseconds.\n",
      "2022-12-20 17:05:37.888499: I tensorflow/compiler/mlir/tensorflow/utils/dump_mlir_util.cc:268] disabling MLIR crash reproducer, set env var `MLIR_CRASH_REPRODUCER_DIRECTORY` to enable.\n"
     ]
    }
   ],
   "source": [
    "converter = tf.lite.TFLiteConverter.from_keras_model(model)\n",
    "tflite_model = converter.convert()\n",
    "\n",
    "with open('deployment/train_model.tflite', 'wb') as f_out:\n",
    "    f_out.write(tflite_model)"
   ]
  },
  {
   "cell_type": "markdown",
   "id": "c97edff8-183b-4a50-b055-b558e7f269aa",
   "metadata": {},
   "source": [
    "And now let's test that we can use it to make a prediction."
   ]
  },
  {
   "cell_type": "code",
   "execution_count": 23,
   "id": "3e59f458-396d-4dac-becd-1de883a1d818",
   "metadata": {},
   "outputs": [],
   "source": [
    "# We will just use one of the images in the 'abnormal' directory\n",
    "\n",
    "filename = os.listdir('MIAS-data/val_data/abnormal')[0]\n",
    "f = os.path.join('MIAS-data/val_data/abnormal', filename)\n",
    "img = load_img(f)\n",
    "\n",
    "x = np.array(img,dtype=np.float32)\n",
    "X = np.array([x])\n",
    "\n",
    "X /= 255.        \n",
    "\n",
    "classes = [\n",
    "    'abnormal',\n",
    "    'normal'\n",
    "]"
   ]
  },
  {
   "cell_type": "markdown",
   "id": "e8efef71-8dd1-4f57-bd9f-b5686650f93e",
   "metadata": {},
   "source": [
    "Let's make the prediction, though still using the `TF-Lite` bundled with the full `TensorFlow` (imported as `tflite_tf`)"
   ]
  },
  {
   "cell_type": "code",
   "execution_count": 24,
   "id": "66d38f41-dadb-46b8-905d-ba30138848c1",
   "metadata": {},
   "outputs": [
    {
     "name": "stderr",
     "output_type": "stream",
     "text": [
      "INFO: Created TensorFlow Lite XNNPACK delegate for CPU.\n"
     ]
    }
   ],
   "source": [
    "interpreter = tflite_tf.Interpreter(model_path='deployment/train_model.tflite')\n",
    "interpreter.allocate_tensors()\n",
    "\n",
    "input_index = interpreter.get_input_details()[0]['index']\n",
    "output_index = interpreter.get_output_details()[0]['index']"
   ]
  },
  {
   "cell_type": "code",
   "execution_count": 25,
   "id": "ccb806e3-beab-4a5d-8933-a0b7f5721cf6",
   "metadata": {},
   "outputs": [],
   "source": [
    "# Let's make the prediction\n",
    "\n",
    "interpreter.set_tensor(input_index, X)\n",
    "interpreter.invoke()\n",
    "preds = interpreter.get_tensor(output_index)"
   ]
  },
  {
   "cell_type": "code",
   "execution_count": 26,
   "id": "a4e3795a-7bcc-4333-96ee-40e62932b9fd",
   "metadata": {},
   "outputs": [
    {
     "name": "stdout",
     "output_type": "stream",
     "text": [
      "MIAS-data/val_data/abnormal/mdb145.jpg -> {'abnormal': 0.46171364, 'normal': 0.5382864}\n",
      "\n"
     ]
    }
   ],
   "source": [
    "# Let's print the prediction probabilities for the given mammography\n",
    "\n",
    "res = dict(zip(classes, preds[0]))\n",
    "print(f'{f} -> {res}\\n')"
   ]
  },
  {
   "cell_type": "markdown",
   "id": "c93043f8-9cf8-4641-9acf-0df8f6a10f10",
   "metadata": {
    "tags": []
   },
   "source": [
    "#### 4.1.2 Remove the TensorFlow dependency"
   ]
  },
  {
   "cell_type": "markdown",
   "id": "e9e3245f-3c73-4584-94a5-fdc14eeb06e8",
   "metadata": {},
   "source": [
    "Instead of using `TF-Lite` fron `TensorFlow` we make sure that it works fine with `TFLite_runtime` (imported here as `tflite`), using the same image loaded above.\n"
   ]
  },
  {
   "cell_type": "code",
   "execution_count": 27,
   "id": "0c237493-0116-42cc-b51a-a40d62708b7d",
   "metadata": {},
   "outputs": [
    {
     "name": "stderr",
     "output_type": "stream",
     "text": [
      "INFO: Created TensorFlow Lite XNNPACK delegate for CPU.\n"
     ]
    }
   ],
   "source": [
    "interpreter = tflite.Interpreter(model_path='deployment/train_model.tflite')\n",
    "interpreter.allocate_tensors()\n",
    "\n",
    "input_index = interpreter.get_input_details()[0]['index']\n",
    "output_index = interpreter.get_output_details()[0]['index']"
   ]
  },
  {
   "cell_type": "code",
   "execution_count": 28,
   "id": "33ccba81-1a93-42f8-8a65-07aba3f6989b",
   "metadata": {},
   "outputs": [],
   "source": [
    "# Let's make the prediction\n",
    "\n",
    "interpreter.set_tensor(input_index, X)\n",
    "interpreter.invoke()\n",
    "preds = interpreter.get_tensor(output_index)"
   ]
  },
  {
   "cell_type": "code",
   "execution_count": 29,
   "id": "cd436095-9d85-4c52-be5f-f0a430918c69",
   "metadata": {},
   "outputs": [
    {
     "name": "stdout",
     "output_type": "stream",
     "text": [
      "MIAS-data/val_data/abnormal/mdb145.jpg -> {'abnormal': 0.46171364, 'normal': 0.5382864}\n",
      "\n"
     ]
    }
   ],
   "source": [
    "# Let's print the prediction probabilities for the given mammography\n",
    "\n",
    "res = dict(zip(classes, preds[0]))\n",
    "print(f'{f} -> {res}\\n')"
   ]
  },
  {
   "cell_type": "markdown",
   "id": "8031294d-5db5-4df4-9289-c11c9262052f",
   "metadata": {},
   "source": [
    "#### 4.1.3 Prepare a Docker image "
   ]
  },
  {
   "cell_type": "markdown",
   "id": "947f1bc5-cf27-4cd7-ad7c-0390814a451d",
   "metadata": {},
   "source": [
    "`AWS Lambda` can be used to run simple programs in several languages, but it can also be used to run code that has been packaged inside a full `Docker` container, and that is the route we follow here, since we need to be able to specify a number of libraries to run our model. So the first step is to locally build a `Docker` container with all dependencies and with the required function definitios for `AWS Lambda`. For this I follow the instructions in lesson 9.5 of the ML-Zoomcamp course: https://github.com/alexeygrigorev/mlbookcamp-code/blob/master/course-zoomcamp/09-serverless/05-docker-image.md"
   ]
  },
  {
   "cell_type": "markdown",
   "id": "c8cb65ca",
   "metadata": {},
   "source": [
    "* First step is to create a `Dockerfile`, which can be seen below. In it we install the `Pillow` and `tflite_runtime` libraries, then we include the `train_model.tflite` model generated in section 4.1.1 above, and also the script `lambda_function.py`, which I show in next cell."
   ]
  },
  {
   "cell_type": "raw",
   "id": "3ef53f0d",
   "metadata": {},
   "source": [
    "FROM public.ecr.aws/lambda/python:3.9\n",
    "\n",
    "RUN pip install Pillow \n",
    "RUN pip install https://github.com/alexeygrigorev/tflite-aws-lambda/raw/main/tflite/tflite_runtime-2.7.0-cp39-cp39-linux_x86_64.whl\n",
    "\n",
    "COPY train_model.tflite .\n",
    "COPY lambda_function.py .\n",
    "\n",
    "CMD [ \"lambda_function.lambda_handler\" ]"
   ]
  },
  {
   "cell_type": "markdown",
   "id": "a0c7ef29",
   "metadata": {},
   "source": [
    "* The `lambda_function.py` script defines the `lambda_handler` entry point, which calls the `predict` function. This will first preprocess the image (downloading the image given a URL, and then normalizing the pixel values). This is then passed to the model saved in the TF-Lite format, for inferring a prediction."
   ]
  },
  {
   "cell_type": "raw",
   "id": "1e955d0e",
   "metadata": {},
   "source": [
    "#!/usr/bin/env python\n",
    "# coding: utf-8\n",
    "\n",
    "import tflite_runtime.interpreter as tflite\n",
    "import numpy as np\n",
    "\n",
    "from io import BytesIO\n",
    "from urllib import request\n",
    "from PIL import Image\n",
    "\n",
    "interpreter = tflite.Interpreter(model_path='train_model.tflite')\n",
    "interpreter.allocate_tensors()\n",
    "\n",
    "input_index = interpreter.get_input_details()[0]['index']\n",
    "output_index = interpreter.get_output_details()[0]['index']\n",
    "\n",
    "classes = [\n",
    "    'abnormal',\n",
    "    'normal'\n",
    "]\n",
    "\n",
    "def preprocess_image_from_url(url):\n",
    "\n",
    "    # download from URL\n",
    "    with request.urlopen(url) as resp:\n",
    "        buffer = resp.read()\n",
    "    stream = BytesIO(buffer)\n",
    "    img = Image.open(stream)\n",
    "\n",
    "    if img.mode != 'RGB':\n",
    "        img = img.convert('RGB')\n",
    "\n",
    "    x = np.array(img, dtype=np.float32)\n",
    "    X = np.array([x])\n",
    "    X /= 255.\n",
    "    \n",
    "    return X\n",
    "\n",
    "def predict(url): \n",
    "    X = preprocess_image_from_url(url)\n",
    "\n",
    "    interpreter.set_tensor(input_index, X)\n",
    "    interpreter.invoke()\n",
    "    preds = interpreter.get_tensor(output_index)\n",
    "\n",
    "    float_predictions = preds[0].tolist()\n",
    "\n",
    "    return dict(zip(classes, float_predictions))\n",
    "\n",
    "\n",
    "def lambda_handler(event, context):\n",
    "    url = event['url']\n",
    "    result = predict(url)\n",
    "    return result"
   ]
  },
  {
   "cell_type": "markdown",
   "id": "cf48c3d8",
   "metadata": {},
   "source": [
    "The Docker image is simply built with:\n",
    "\n",
    "`(capstone-mlzoomcamp) $ docker build -t mammography-model .`"
   ]
  },
  {
   "cell_type": "markdown",
   "id": "b9f3ea35",
   "metadata": {},
   "source": [
    "To test that everything is working fine, we start creating a container:"
   ]
  },
  {
   "cell_type": "raw",
   "id": "63c1d61f",
   "metadata": {},
   "source": [
    "(capstone-mlzoomcamp) $ docker run -it --rm -p 8080:8080 mammography-model:latest"
   ]
  },
  {
   "cell_type": "markdown",
   "id": "3500a579",
   "metadata": {},
   "source": [
    "and then we run the `test_local.py` script, which just runs the prediction for one image stored in `AWS S3` service (see below), against the local service running inside the `docker` container"
   ]
  },
  {
   "cell_type": "raw",
   "id": "c00b69bc",
   "metadata": {},
   "source": [
    "(capstone-mlzoomcamp) $ python test_local.py"
   ]
  },
  {
   "cell_type": "markdown",
   "id": "fbc3a367",
   "metadata": {},
   "source": [
    "### 4.2. Cloud deployment"
   ]
  },
  {
   "cell_type": "markdown",
   "id": "30ba5de3-de53-46ad-ad17-2393decc4b0b",
   "metadata": {},
   "source": [
    "#### 4.2.1 Uploading Docker image to `ECR` service, creating an `AWS Lambda` function and a `Web service`"
   ]
  },
  {
   "cell_type": "markdown",
   "id": "df116c38-54b1-4dbc-bac6-6bebab00c307",
   "metadata": {},
   "source": [
    "The steps required to create a full cloud deployment are not easy to explain without taking several screenshots or a video of the full process, so I will only mention here the main points of the process. "
   ]
  },
  {
   "cell_type": "markdown",
   "id": "455171ea",
   "metadata": {},
   "source": [
    "+ First, we need to upload the `Docker` image we created in section 4.1.3 to the `ECR` service, which involved the following commands"
   ]
  },
  {
   "cell_type": "raw",
   "id": "5bf012fd-2af2-4ebb-ab98-404392c3dcf6",
   "metadata": {},
   "source": [
    "(capstone-mlzoomcamp) $ aws ecr create-repository --repository-name mammography-repo\n",
    "\n",
    "(capstone-mlzoomcamp) $ aws ecr get-login-password --region eu-west-2 | docker login --username AWS --password-stdin 875176118356.dkr.ecr.eu-west-2.amazonaws.com\n",
    "Login Succeeded\n",
    "\n",
    "(capstone-mlzoomcamp) $ docker tag mammography-model:latest 875176118356.dkr.ecr.eu-west-2.amazonaws.com/mammography-repo:latest\n",
    "\n",
    "(capstone-mlzoomcamp) $ docker push 875176118356.dkr.ecr.eu-west-2.amazonaws.com/mammography-repo:latest"
   ]
  },
  {
   "cell_type": "markdown",
   "id": "626c9af2-188c-4abf-a7ac-5225dc4e94c0",
   "metadata": {},
   "source": [
    "+ Second, we have to create the Lambda function that uses the previously uploaded container. This step was explained in detail in lesson 9.6 of the ML_Zoomcamp course (https://github.com/alexeygrigorev/mlbookcamp-code/blob/master/course-zoomcamp/09-serverless/06-creating-lambda.md)"
   ]
  },
  {
   "cell_type": "markdown",
   "id": "74b320b1",
   "metadata": {},
   "source": [
    "+ And lastly we have to create the web service (with the `API Gateway` service) to the above lambda function, explained in detail in lesson 9.7 of the ML_Zoomcamp course (https://github.com/alexeygrigorev/mlbookcamp-code/blob/master/course-zoomcamp/09-serverless/07-api-gateway.md)"
   ]
  },
  {
   "cell_type": "markdown",
   "id": "58432222",
   "metadata": {},
   "source": [
    "*NOTE*: when creating the Lambda function, it is important to upgrade the default configuration, to have a larger RAM and longer timeout, since the TensorFlow model will require them (at least on the lambda function first run)\n",
    "\n",
    "*NOTE*: by default the web service is open to the public. If we want to restrict it, we could specify a `Resource policy`. For example, to allow access only to a certain range of IPs, we could specify it like:"
   ]
  },
  {
   "cell_type": "raw",
   "id": "af27892c-b141-4f49-adca-bc5af5766782",
   "metadata": {},
   "source": [
    "{\n",
    "    \"Version\": \"2012-10-17\",\n",
    "    \"Statement\": [\n",
    "        {\n",
    "            \"Effect\": \"Allow\",\n",
    "            \"Principal\": \"*\",\n",
    "            \"Action\": \"execute-api:Invoke\",\n",
    "            \"Resource\": \"arn:aws:execute-api:eu-west-2:875176118356:kcri5johz4/*\",\n",
    "            \"Condition\": {\n",
    "                \"IpAddress\": {\n",
    "                    \"aws:SourceIp\": \"161.27.206.0/24\"\n",
    "                }\n",
    "            }\n",
    "        }\n",
    "    ]\n",
    "}"
   ]
  },
  {
   "cell_type": "markdown",
   "id": "efe5c3a0",
   "metadata": {},
   "source": [
    "#### 4.2.2 Testing the service"
   ]
  },
  {
   "cell_type": "markdown",
   "id": "e4a8f4f0",
   "metadata": {},
   "source": [
    "To test the cloud services deployed in section 4.2.1, we can run the `test_aws.py` script, which is basically the same as the `test_local.py` script, but running the prediction against the cloud services deployed above instead of the local `docker` container."
   ]
  },
  {
   "cell_type": "raw",
   "id": "1c6ce736",
   "metadata": {},
   "source": [
    "(capstone-mlzoomcamp) $ python test_aws.py"
   ]
  },
  {
   "cell_type": "markdown",
   "id": "649c2519",
   "metadata": {},
   "source": [
    "#### 4.2.2 Adding a user interface and a data storage"
   ]
  },
  {
   "cell_type": "markdown",
   "id": "8b8cef3d-18d1-4901-a22c-5ac8111203ed",
   "metadata": {},
   "source": [
    "At the beginning of section 4, I explained how `AWS Lambda` could be used in an imagined workflow, in which a hospital could upload mammogram images to some cloud service and then use the trained model deployed to `AWS ECR` for predictions of 'abnormalities`. A graphical description of the solution I developed for this workflow can be seen below:\n",
    "\n",
    "+ The mammogram images for which we want predictions are stored in the service `AWS S3`\n",
    "+ The User Interface can be created fully in the cloud, with the `Streamlit Cloud` service, which is very easy to set, just by linking the application to a GitHub repository. For this example, the `GitHub` repository that is linked to `Streamlit Cloud` is https://github.com/angel-devicente/streamlit-mammography, and the description of the User Interface is just given by the `streamlit_app.py` script (https://github.com/angel-devicente/streamlit-mammography/blob/main/streamlit_app.py). As it is, the User Interface is extremely simple, where we can just select the mammogram image we want to use by using a slider, and then asking for a prediction by pressing a simple button. When this button is pressed, `DNN Prediction` takes over the control.\n",
    "+ When we press the `Predict` button in the User Interface, the `AWS API Gateway` is used to invoke the `AWS Lambda` function, which in turn uses the `Docker` image stored in the `AWS ECR` service."
   ]
  },
  {
   "cell_type": "markdown",
   "id": "07ad6c5f-146e-41bc-b06b-a52c5a80f364",
   "metadata": {},
   "source": [
    "![Cloud](images/cloud_deployment.png)"
   ]
  },
  {
   "cell_type": "markdown",
   "id": "75eae15a",
   "metadata": {},
   "source": [
    "#### 4.2.3 Testing the full cloud deployment"
   ]
  },
  {
   "cell_type": "markdown",
   "id": "e2bf49fa-891c-4f88-a80d-072d7dbff59a",
   "metadata": {},
   "source": [
    "The solution described in section 4.2.2 can be accessed at: \n",
    "\n",
    "https://angel-devicente-streamlit-mammography-streamlit-app-jtcdkq.streamlit.app/\n",
    "\n",
    "A sample screenshot of the user interface can be seen below."
   ]
  },
  {
   "cell_type": "markdown",
   "id": "d2cfc667",
   "metadata": {},
   "source": [
    "![UI](images/user_interface.png)"
   ]
  }
 ],
 "metadata": {
  "jupytext": {
   "formats": "ipynb,py:light"
  },
  "kernelspec": {
   "display_name": "Python 3 (ipykernel)",
   "language": "python",
   "name": "python3"
  },
  "language_info": {
   "codemirror_mode": {
    "name": "ipython",
    "version": 3
   },
   "file_extension": ".py",
   "mimetype": "text/x-python",
   "name": "python",
   "nbconvert_exporter": "python",
   "pygments_lexer": "ipython3",
   "version": "3.9.15"
  }
 },
 "nbformat": 4,
 "nbformat_minor": 5
}
